{
  "nbformat": 4,
  "nbformat_minor": 0,
  "metadata": {
    "colab": {
      "name": "RandomForest_Fraud.ipynb",
      "provenance": []
    },
    "kernelspec": {
      "name": "python3",
      "display_name": "Python 3"
    },
    "language_info": {
      "name": "python"
    }
  },
  "cells": [
    {
      "cell_type": "markdown",
      "metadata": {
        "id": "w2tlZDfS6kWe"
      },
      "source": [
        "Use Random Forest to prepare a model on fraud data \n",
        "treating those who have taxable_income <= 30000 as \"Risky\" and others are \"Good\"\n"
      ]
    },
    {
      "cell_type": "code",
      "metadata": {
        "id": "7PK5Hweg56N0"
      },
      "source": [
        "import pandas as pd\n",
        "import numpy as np\n",
        "import matplotlib.pyplot as plt\n",
        "import seaborn as sns\n",
        "from sklearn.model_selection import train_test_split\n",
        "from sklearn.ensemble import RandomForestClassifier\n",
        "from sklearn.metrics import accuracy_score\n",
        "from sklearn.metrics import confusion_matrix\n",
        "from sklearn.model_selection import GridSearchCV\n",
        "from sklearn import tree"
      ],
      "execution_count": 1,
      "outputs": []
    },
    {
      "cell_type": "markdown",
      "metadata": {
        "id": "jDy8_Bvd6jFn"
      },
      "source": [
        ""
      ]
    },
    {
      "cell_type": "code",
      "metadata": {
        "colab": {
          "base_uri": "https://localhost:8080/",
          "height": 202
        },
        "id": "w0LI3iU26nss",
        "outputId": "7b8aff50-3820-467c-b68f-444640a25a36"
      },
      "source": [
        "data=pd.read_csv(\"/content/Fraud_check.csv\")\n",
        "data.head()"
      ],
      "execution_count": 3,
      "outputs": [
        {
          "output_type": "execute_result",
          "data": {
            "text/html": [
              "<div>\n",
              "<style scoped>\n",
              "    .dataframe tbody tr th:only-of-type {\n",
              "        vertical-align: middle;\n",
              "    }\n",
              "\n",
              "    .dataframe tbody tr th {\n",
              "        vertical-align: top;\n",
              "    }\n",
              "\n",
              "    .dataframe thead th {\n",
              "        text-align: right;\n",
              "    }\n",
              "</style>\n",
              "<table border=\"1\" class=\"dataframe\">\n",
              "  <thead>\n",
              "    <tr style=\"text-align: right;\">\n",
              "      <th></th>\n",
              "      <th>Undergrad</th>\n",
              "      <th>Marital.Status</th>\n",
              "      <th>Taxable.Income</th>\n",
              "      <th>City.Population</th>\n",
              "      <th>Work.Experience</th>\n",
              "      <th>Urban</th>\n",
              "    </tr>\n",
              "  </thead>\n",
              "  <tbody>\n",
              "    <tr>\n",
              "      <th>0</th>\n",
              "      <td>NO</td>\n",
              "      <td>Single</td>\n",
              "      <td>68833</td>\n",
              "      <td>50047</td>\n",
              "      <td>10</td>\n",
              "      <td>YES</td>\n",
              "    </tr>\n",
              "    <tr>\n",
              "      <th>1</th>\n",
              "      <td>YES</td>\n",
              "      <td>Divorced</td>\n",
              "      <td>33700</td>\n",
              "      <td>134075</td>\n",
              "      <td>18</td>\n",
              "      <td>YES</td>\n",
              "    </tr>\n",
              "    <tr>\n",
              "      <th>2</th>\n",
              "      <td>NO</td>\n",
              "      <td>Married</td>\n",
              "      <td>36925</td>\n",
              "      <td>160205</td>\n",
              "      <td>30</td>\n",
              "      <td>YES</td>\n",
              "    </tr>\n",
              "    <tr>\n",
              "      <th>3</th>\n",
              "      <td>YES</td>\n",
              "      <td>Single</td>\n",
              "      <td>50190</td>\n",
              "      <td>193264</td>\n",
              "      <td>15</td>\n",
              "      <td>YES</td>\n",
              "    </tr>\n",
              "    <tr>\n",
              "      <th>4</th>\n",
              "      <td>NO</td>\n",
              "      <td>Married</td>\n",
              "      <td>81002</td>\n",
              "      <td>27533</td>\n",
              "      <td>28</td>\n",
              "      <td>NO</td>\n",
              "    </tr>\n",
              "  </tbody>\n",
              "</table>\n",
              "</div>"
            ],
            "text/plain": [
              "  Undergrad Marital.Status  ...  Work.Experience  Urban\n",
              "0        NO         Single  ...               10    YES\n",
              "1       YES       Divorced  ...               18    YES\n",
              "2        NO        Married  ...               30    YES\n",
              "3       YES         Single  ...               15    YES\n",
              "4        NO        Married  ...               28     NO\n",
              "\n",
              "[5 rows x 6 columns]"
            ]
          },
          "metadata": {},
          "execution_count": 3
        }
      ]
    },
    {
      "cell_type": "code",
      "metadata": {
        "colab": {
          "base_uri": "https://localhost:8080/",
          "height": 141
        },
        "id": "5zWjvuW486g3",
        "outputId": "ee1a8c66-8725-43f3-f00c-949b4162ec5f"
      },
      "source": [
        "data.describe().T"
      ],
      "execution_count": 4,
      "outputs": [
        {
          "output_type": "execute_result",
          "data": {
            "text/html": [
              "<div>\n",
              "<style scoped>\n",
              "    .dataframe tbody tr th:only-of-type {\n",
              "        vertical-align: middle;\n",
              "    }\n",
              "\n",
              "    .dataframe tbody tr th {\n",
              "        vertical-align: top;\n",
              "    }\n",
              "\n",
              "    .dataframe thead th {\n",
              "        text-align: right;\n",
              "    }\n",
              "</style>\n",
              "<table border=\"1\" class=\"dataframe\">\n",
              "  <thead>\n",
              "    <tr style=\"text-align: right;\">\n",
              "      <th></th>\n",
              "      <th>count</th>\n",
              "      <th>mean</th>\n",
              "      <th>std</th>\n",
              "      <th>min</th>\n",
              "      <th>25%</th>\n",
              "      <th>50%</th>\n",
              "      <th>75%</th>\n",
              "      <th>max</th>\n",
              "    </tr>\n",
              "  </thead>\n",
              "  <tbody>\n",
              "    <tr>\n",
              "      <th>Taxable.Income</th>\n",
              "      <td>600.0</td>\n",
              "      <td>55208.375000</td>\n",
              "      <td>26204.827597</td>\n",
              "      <td>10003.0</td>\n",
              "      <td>32871.50</td>\n",
              "      <td>55074.5</td>\n",
              "      <td>78611.75</td>\n",
              "      <td>99619.0</td>\n",
              "    </tr>\n",
              "    <tr>\n",
              "      <th>City.Population</th>\n",
              "      <td>600.0</td>\n",
              "      <td>108747.368333</td>\n",
              "      <td>49850.075134</td>\n",
              "      <td>25779.0</td>\n",
              "      <td>66966.75</td>\n",
              "      <td>106493.5</td>\n",
              "      <td>150114.25</td>\n",
              "      <td>199778.0</td>\n",
              "    </tr>\n",
              "    <tr>\n",
              "      <th>Work.Experience</th>\n",
              "      <td>600.0</td>\n",
              "      <td>15.558333</td>\n",
              "      <td>8.842147</td>\n",
              "      <td>0.0</td>\n",
              "      <td>8.00</td>\n",
              "      <td>15.0</td>\n",
              "      <td>24.00</td>\n",
              "      <td>30.0</td>\n",
              "    </tr>\n",
              "  </tbody>\n",
              "</table>\n",
              "</div>"
            ],
            "text/plain": [
              "                 count           mean  ...        75%       max\n",
              "Taxable.Income   600.0   55208.375000  ...   78611.75   99619.0\n",
              "City.Population  600.0  108747.368333  ...  150114.25  199778.0\n",
              "Work.Experience  600.0      15.558333  ...      24.00      30.0\n",
              "\n",
              "[3 rows x 8 columns]"
            ]
          },
          "metadata": {},
          "execution_count": 4
        }
      ]
    },
    {
      "cell_type": "code",
      "metadata": {
        "colab": {
          "base_uri": "https://localhost:8080/"
        },
        "id": "HaxIHHz_9ARD",
        "outputId": "6b6f215b-1945-43c3-b7b3-e632f48b23b2"
      },
      "source": [
        "data.isnull().sum()"
      ],
      "execution_count": 5,
      "outputs": [
        {
          "output_type": "execute_result",
          "data": {
            "text/plain": [
              "Undergrad          0\n",
              "Marital.Status     0\n",
              "Taxable.Income     0\n",
              "City.Population    0\n",
              "Work.Experience    0\n",
              "Urban              0\n",
              "dtype: int64"
            ]
          },
          "metadata": {},
          "execution_count": 5
        }
      ]
    },
    {
      "cell_type": "code",
      "metadata": {
        "colab": {
          "base_uri": "https://localhost:8080/"
        },
        "id": "mgFKM_rM9ELk",
        "outputId": "94e33d42-b1e0-43a0-ed6b-85c82c34ba1b"
      },
      "source": [
        "data.duplicated().sum()"
      ],
      "execution_count": 6,
      "outputs": [
        {
          "output_type": "execute_result",
          "data": {
            "text/plain": [
              "0"
            ]
          },
          "metadata": {},
          "execution_count": 6
        }
      ]
    },
    {
      "cell_type": "code",
      "metadata": {
        "colab": {
          "base_uri": "https://localhost:8080/"
        },
        "id": "Qhx8Vw1s9GsV",
        "outputId": "de835b9a-0280-4f75-d18a-f317b8edf0d4"
      },
      "source": [
        "data.dtypes"
      ],
      "execution_count": 7,
      "outputs": [
        {
          "output_type": "execute_result",
          "data": {
            "text/plain": [
              "Undergrad          object\n",
              "Marital.Status     object\n",
              "Taxable.Income      int64\n",
              "City.Population     int64\n",
              "Work.Experience     int64\n",
              "Urban              object\n",
              "dtype: object"
            ]
          },
          "metadata": {},
          "execution_count": 7
        }
      ]
    },
    {
      "cell_type": "code",
      "metadata": {
        "id": "6YFXLnZv9JC6"
      },
      "source": [
        "df=data.copy()"
      ],
      "execution_count": 8,
      "outputs": []
    },
    {
      "cell_type": "code",
      "metadata": {
        "colab": {
          "base_uri": "https://localhost:8080/",
          "height": 414
        },
        "id": "QYS3VPOA9Rj1",
        "outputId": "0d56b754-5322-48ea-f8d3-0d62c339e624"
      },
      "source": [
        "df=pd.get_dummies(df,columns=['Undergrad','Marital.Status','Urban'])\n",
        "df"
      ],
      "execution_count": 9,
      "outputs": [
        {
          "output_type": "execute_result",
          "data": {
            "text/html": [
              "<div>\n",
              "<style scoped>\n",
              "    .dataframe tbody tr th:only-of-type {\n",
              "        vertical-align: middle;\n",
              "    }\n",
              "\n",
              "    .dataframe tbody tr th {\n",
              "        vertical-align: top;\n",
              "    }\n",
              "\n",
              "    .dataframe thead th {\n",
              "        text-align: right;\n",
              "    }\n",
              "</style>\n",
              "<table border=\"1\" class=\"dataframe\">\n",
              "  <thead>\n",
              "    <tr style=\"text-align: right;\">\n",
              "      <th></th>\n",
              "      <th>Taxable.Income</th>\n",
              "      <th>City.Population</th>\n",
              "      <th>Work.Experience</th>\n",
              "      <th>Undergrad_NO</th>\n",
              "      <th>Undergrad_YES</th>\n",
              "      <th>Marital.Status_Divorced</th>\n",
              "      <th>Marital.Status_Married</th>\n",
              "      <th>Marital.Status_Single</th>\n",
              "      <th>Urban_NO</th>\n",
              "      <th>Urban_YES</th>\n",
              "    </tr>\n",
              "  </thead>\n",
              "  <tbody>\n",
              "    <tr>\n",
              "      <th>0</th>\n",
              "      <td>68833</td>\n",
              "      <td>50047</td>\n",
              "      <td>10</td>\n",
              "      <td>1</td>\n",
              "      <td>0</td>\n",
              "      <td>0</td>\n",
              "      <td>0</td>\n",
              "      <td>1</td>\n",
              "      <td>0</td>\n",
              "      <td>1</td>\n",
              "    </tr>\n",
              "    <tr>\n",
              "      <th>1</th>\n",
              "      <td>33700</td>\n",
              "      <td>134075</td>\n",
              "      <td>18</td>\n",
              "      <td>0</td>\n",
              "      <td>1</td>\n",
              "      <td>1</td>\n",
              "      <td>0</td>\n",
              "      <td>0</td>\n",
              "      <td>0</td>\n",
              "      <td>1</td>\n",
              "    </tr>\n",
              "    <tr>\n",
              "      <th>2</th>\n",
              "      <td>36925</td>\n",
              "      <td>160205</td>\n",
              "      <td>30</td>\n",
              "      <td>1</td>\n",
              "      <td>0</td>\n",
              "      <td>0</td>\n",
              "      <td>1</td>\n",
              "      <td>0</td>\n",
              "      <td>0</td>\n",
              "      <td>1</td>\n",
              "    </tr>\n",
              "    <tr>\n",
              "      <th>3</th>\n",
              "      <td>50190</td>\n",
              "      <td>193264</td>\n",
              "      <td>15</td>\n",
              "      <td>0</td>\n",
              "      <td>1</td>\n",
              "      <td>0</td>\n",
              "      <td>0</td>\n",
              "      <td>1</td>\n",
              "      <td>0</td>\n",
              "      <td>1</td>\n",
              "    </tr>\n",
              "    <tr>\n",
              "      <th>4</th>\n",
              "      <td>81002</td>\n",
              "      <td>27533</td>\n",
              "      <td>28</td>\n",
              "      <td>1</td>\n",
              "      <td>0</td>\n",
              "      <td>0</td>\n",
              "      <td>1</td>\n",
              "      <td>0</td>\n",
              "      <td>1</td>\n",
              "      <td>0</td>\n",
              "    </tr>\n",
              "    <tr>\n",
              "      <th>...</th>\n",
              "      <td>...</td>\n",
              "      <td>...</td>\n",
              "      <td>...</td>\n",
              "      <td>...</td>\n",
              "      <td>...</td>\n",
              "      <td>...</td>\n",
              "      <td>...</td>\n",
              "      <td>...</td>\n",
              "      <td>...</td>\n",
              "      <td>...</td>\n",
              "    </tr>\n",
              "    <tr>\n",
              "      <th>595</th>\n",
              "      <td>76340</td>\n",
              "      <td>39492</td>\n",
              "      <td>7</td>\n",
              "      <td>0</td>\n",
              "      <td>1</td>\n",
              "      <td>1</td>\n",
              "      <td>0</td>\n",
              "      <td>0</td>\n",
              "      <td>0</td>\n",
              "      <td>1</td>\n",
              "    </tr>\n",
              "    <tr>\n",
              "      <th>596</th>\n",
              "      <td>69967</td>\n",
              "      <td>55369</td>\n",
              "      <td>2</td>\n",
              "      <td>0</td>\n",
              "      <td>1</td>\n",
              "      <td>1</td>\n",
              "      <td>0</td>\n",
              "      <td>0</td>\n",
              "      <td>0</td>\n",
              "      <td>1</td>\n",
              "    </tr>\n",
              "    <tr>\n",
              "      <th>597</th>\n",
              "      <td>47334</td>\n",
              "      <td>154058</td>\n",
              "      <td>0</td>\n",
              "      <td>1</td>\n",
              "      <td>0</td>\n",
              "      <td>1</td>\n",
              "      <td>0</td>\n",
              "      <td>0</td>\n",
              "      <td>0</td>\n",
              "      <td>1</td>\n",
              "    </tr>\n",
              "    <tr>\n",
              "      <th>598</th>\n",
              "      <td>98592</td>\n",
              "      <td>180083</td>\n",
              "      <td>17</td>\n",
              "      <td>0</td>\n",
              "      <td>1</td>\n",
              "      <td>0</td>\n",
              "      <td>1</td>\n",
              "      <td>0</td>\n",
              "      <td>1</td>\n",
              "      <td>0</td>\n",
              "    </tr>\n",
              "    <tr>\n",
              "      <th>599</th>\n",
              "      <td>96519</td>\n",
              "      <td>158137</td>\n",
              "      <td>16</td>\n",
              "      <td>1</td>\n",
              "      <td>0</td>\n",
              "      <td>1</td>\n",
              "      <td>0</td>\n",
              "      <td>0</td>\n",
              "      <td>1</td>\n",
              "      <td>0</td>\n",
              "    </tr>\n",
              "  </tbody>\n",
              "</table>\n",
              "<p>600 rows × 10 columns</p>\n",
              "</div>"
            ],
            "text/plain": [
              "     Taxable.Income  City.Population  ...  Urban_NO  Urban_YES\n",
              "0             68833            50047  ...         0          1\n",
              "1             33700           134075  ...         0          1\n",
              "2             36925           160205  ...         0          1\n",
              "3             50190           193264  ...         0          1\n",
              "4             81002            27533  ...         1          0\n",
              "..              ...              ...  ...       ...        ...\n",
              "595           76340            39492  ...         0          1\n",
              "596           69967            55369  ...         0          1\n",
              "597           47334           154058  ...         0          1\n",
              "598           98592           180083  ...         1          0\n",
              "599           96519           158137  ...         1          0\n",
              "\n",
              "[600 rows x 10 columns]"
            ]
          },
          "metadata": {},
          "execution_count": 9
        }
      ]
    },
    {
      "cell_type": "code",
      "metadata": {
        "colab": {
          "base_uri": "https://localhost:8080/",
          "height": 375
        },
        "id": "Jb76dYwH9V5Y",
        "outputId": "63d330fe-23d4-478d-e4af-94596abe8cde"
      },
      "source": [
        "df.corr()"
      ],
      "execution_count": 10,
      "outputs": [
        {
          "output_type": "execute_result",
          "data": {
            "text/html": [
              "<div>\n",
              "<style scoped>\n",
              "    .dataframe tbody tr th:only-of-type {\n",
              "        vertical-align: middle;\n",
              "    }\n",
              "\n",
              "    .dataframe tbody tr th {\n",
              "        vertical-align: top;\n",
              "    }\n",
              "\n",
              "    .dataframe thead th {\n",
              "        text-align: right;\n",
              "    }\n",
              "</style>\n",
              "<table border=\"1\" class=\"dataframe\">\n",
              "  <thead>\n",
              "    <tr style=\"text-align: right;\">\n",
              "      <th></th>\n",
              "      <th>Taxable.Income</th>\n",
              "      <th>City.Population</th>\n",
              "      <th>Work.Experience</th>\n",
              "      <th>Undergrad_NO</th>\n",
              "      <th>Undergrad_YES</th>\n",
              "      <th>Marital.Status_Divorced</th>\n",
              "      <th>Marital.Status_Married</th>\n",
              "      <th>Marital.Status_Single</th>\n",
              "      <th>Urban_NO</th>\n",
              "      <th>Urban_YES</th>\n",
              "    </tr>\n",
              "  </thead>\n",
              "  <tbody>\n",
              "    <tr>\n",
              "      <th>Taxable.Income</th>\n",
              "      <td>1.000000</td>\n",
              "      <td>-0.064387</td>\n",
              "      <td>-0.001818</td>\n",
              "      <td>0.049232</td>\n",
              "      <td>-0.049232</td>\n",
              "      <td>0.062099</td>\n",
              "      <td>-0.100611</td>\n",
              "      <td>0.037910</td>\n",
              "      <td>-0.070628</td>\n",
              "      <td>0.070628</td>\n",
              "    </tr>\n",
              "    <tr>\n",
              "      <th>City.Population</th>\n",
              "      <td>-0.064387</td>\n",
              "      <td>1.000000</td>\n",
              "      <td>0.013135</td>\n",
              "      <td>-0.079579</td>\n",
              "      <td>0.079579</td>\n",
              "      <td>0.004925</td>\n",
              "      <td>-0.007035</td>\n",
              "      <td>0.002087</td>\n",
              "      <td>0.040098</td>\n",
              "      <td>-0.040098</td>\n",
              "    </tr>\n",
              "    <tr>\n",
              "      <th>Work.Experience</th>\n",
              "      <td>-0.001818</td>\n",
              "      <td>0.013135</td>\n",
              "      <td>1.000000</td>\n",
              "      <td>0.005362</td>\n",
              "      <td>-0.005362</td>\n",
              "      <td>-0.014833</td>\n",
              "      <td>0.033347</td>\n",
              "      <td>-0.018123</td>\n",
              "      <td>0.094559</td>\n",
              "      <td>-0.094559</td>\n",
              "    </tr>\n",
              "    <tr>\n",
              "      <th>Undergrad_NO</th>\n",
              "      <td>0.049232</td>\n",
              "      <td>-0.079579</td>\n",
              "      <td>0.005362</td>\n",
              "      <td>1.000000</td>\n",
              "      <td>-1.000000</td>\n",
              "      <td>0.045101</td>\n",
              "      <td>-0.015120</td>\n",
              "      <td>-0.028883</td>\n",
              "      <td>-0.000267</td>\n",
              "      <td>0.000267</td>\n",
              "    </tr>\n",
              "    <tr>\n",
              "      <th>Undergrad_YES</th>\n",
              "      <td>-0.049232</td>\n",
              "      <td>0.079579</td>\n",
              "      <td>-0.005362</td>\n",
              "      <td>-1.000000</td>\n",
              "      <td>1.000000</td>\n",
              "      <td>-0.045101</td>\n",
              "      <td>0.015120</td>\n",
              "      <td>0.028883</td>\n",
              "      <td>0.000267</td>\n",
              "      <td>-0.000267</td>\n",
              "    </tr>\n",
              "    <tr>\n",
              "      <th>Marital.Status_Divorced</th>\n",
              "      <td>0.062099</td>\n",
              "      <td>0.004925</td>\n",
              "      <td>-0.014833</td>\n",
              "      <td>0.045101</td>\n",
              "      <td>-0.045101</td>\n",
              "      <td>1.000000</td>\n",
              "      <td>-0.468757</td>\n",
              "      <td>-0.510435</td>\n",
              "      <td>0.065518</td>\n",
              "      <td>-0.065518</td>\n",
              "    </tr>\n",
              "    <tr>\n",
              "      <th>Marital.Status_Married</th>\n",
              "      <td>-0.100611</td>\n",
              "      <td>-0.007035</td>\n",
              "      <td>0.033347</td>\n",
              "      <td>-0.015120</td>\n",
              "      <td>0.015120</td>\n",
              "      <td>-0.468757</td>\n",
              "      <td>1.000000</td>\n",
              "      <td>-0.520317</td>\n",
              "      <td>-0.016771</td>\n",
              "      <td>0.016771</td>\n",
              "    </tr>\n",
              "    <tr>\n",
              "      <th>Marital.Status_Single</th>\n",
              "      <td>0.037910</td>\n",
              "      <td>0.002087</td>\n",
              "      <td>-0.018123</td>\n",
              "      <td>-0.028883</td>\n",
              "      <td>0.028883</td>\n",
              "      <td>-0.510435</td>\n",
              "      <td>-0.520317</td>\n",
              "      <td>1.000000</td>\n",
              "      <td>-0.047014</td>\n",
              "      <td>0.047014</td>\n",
              "    </tr>\n",
              "    <tr>\n",
              "      <th>Urban_NO</th>\n",
              "      <td>-0.070628</td>\n",
              "      <td>0.040098</td>\n",
              "      <td>0.094559</td>\n",
              "      <td>-0.000267</td>\n",
              "      <td>0.000267</td>\n",
              "      <td>0.065518</td>\n",
              "      <td>-0.016771</td>\n",
              "      <td>-0.047014</td>\n",
              "      <td>1.000000</td>\n",
              "      <td>-1.000000</td>\n",
              "    </tr>\n",
              "    <tr>\n",
              "      <th>Urban_YES</th>\n",
              "      <td>0.070628</td>\n",
              "      <td>-0.040098</td>\n",
              "      <td>-0.094559</td>\n",
              "      <td>0.000267</td>\n",
              "      <td>-0.000267</td>\n",
              "      <td>-0.065518</td>\n",
              "      <td>0.016771</td>\n",
              "      <td>0.047014</td>\n",
              "      <td>-1.000000</td>\n",
              "      <td>1.000000</td>\n",
              "    </tr>\n",
              "  </tbody>\n",
              "</table>\n",
              "</div>"
            ],
            "text/plain": [
              "                         Taxable.Income  City.Population  ...  Urban_NO  Urban_YES\n",
              "Taxable.Income                 1.000000        -0.064387  ... -0.070628   0.070628\n",
              "City.Population               -0.064387         1.000000  ...  0.040098  -0.040098\n",
              "Work.Experience               -0.001818         0.013135  ...  0.094559  -0.094559\n",
              "Undergrad_NO                   0.049232        -0.079579  ... -0.000267   0.000267\n",
              "Undergrad_YES                 -0.049232         0.079579  ...  0.000267  -0.000267\n",
              "Marital.Status_Divorced        0.062099         0.004925  ...  0.065518  -0.065518\n",
              "Marital.Status_Married        -0.100611        -0.007035  ... -0.016771   0.016771\n",
              "Marital.Status_Single          0.037910         0.002087  ... -0.047014   0.047014\n",
              "Urban_NO                      -0.070628         0.040098  ...  1.000000  -1.000000\n",
              "Urban_YES                      0.070628        -0.040098  ... -1.000000   1.000000\n",
              "\n",
              "[10 rows x 10 columns]"
            ]
          },
          "metadata": {},
          "execution_count": 10
        }
      ]
    },
    {
      "cell_type": "code",
      "metadata": {
        "id": "7Qfy1-iy9cK0"
      },
      "source": [
        "df[\"Taxable.Income\"]=df[\"Taxable.Income\"].apply(lambda x: \"Risky\" if x<=30000 else \"Good\")"
      ],
      "execution_count": 11,
      "outputs": []
    },
    {
      "cell_type": "markdown",
      "metadata": {
        "id": "UaIyUhuA9jHO"
      },
      "source": [
        "Random Forest Model"
      ]
    },
    {
      "cell_type": "code",
      "metadata": {
        "id": "V0EUs-QB9foq"
      },
      "source": [
        "X=df.iloc[:,1:]\n",
        "y=df.iloc[:,0]"
      ],
      "execution_count": 12,
      "outputs": []
    },
    {
      "cell_type": "code",
      "metadata": {
        "id": "A9rWDgA99plT"
      },
      "source": [
        "X_train,X_test,y_train,y_test = train_test_split(X,y,test_size = 0.2)"
      ],
      "execution_count": 13,
      "outputs": []
    },
    {
      "cell_type": "code",
      "metadata": {
        "colab": {
          "base_uri": "https://localhost:8080/"
        },
        "id": "mwcX8sR-9xHw",
        "outputId": "708253d0-4ff7-4d15-f235-a187798efca1"
      },
      "source": [
        "y_train.value_counts()"
      ],
      "execution_count": 14,
      "outputs": [
        {
          "output_type": "execute_result",
          "data": {
            "text/plain": [
              "Good     380\n",
              "Risky    100\n",
              "Name: Taxable.Income, dtype: int64"
            ]
          },
          "metadata": {},
          "execution_count": 14
        }
      ]
    },
    {
      "cell_type": "code",
      "metadata": {
        "id": "GHJDw8sg91Sn"
      },
      "source": [
        "RFM=RandomForestClassifier(n_estimators = 150, oob_score =True,criterion ='entropy')"
      ],
      "execution_count": 15,
      "outputs": []
    },
    {
      "cell_type": "code",
      "metadata": {
        "colab": {
          "base_uri": "https://localhost:8080/"
        },
        "id": "aQZsIksf-Vjt",
        "outputId": "3cf09e88-dcb4-450f-bfe1-ad9fa1100844"
      },
      "source": [
        "params={\"n_jobs\":np.array(range(1,8))}\n",
        "params"
      ],
      "execution_count": 20,
      "outputs": [
        {
          "output_type": "execute_result",
          "data": {
            "text/plain": [
              "{'n_jobs': array([1, 2, 3, 4, 5, 6, 7])}"
            ]
          },
          "metadata": {},
          "execution_count": 20
        }
      ]
    },
    {
      "cell_type": "code",
      "metadata": {
        "id": "KqS3OPU3-MwT"
      },
      "source": [
        "model=GridSearchCV(RFM,param_grid=params)"
      ],
      "execution_count": 17,
      "outputs": []
    },
    {
      "cell_type": "code",
      "metadata": {
        "colab": {
          "base_uri": "https://localhost:8080/"
        },
        "id": "L7i870m3-pTt",
        "outputId": "6dcc2e3d-2c8d-44cd-a9f7-895ee810585b"
      },
      "source": [
        "model.fit(X_train,y_train)"
      ],
      "execution_count": 18,
      "outputs": [
        {
          "output_type": "execute_result",
          "data": {
            "text/plain": [
              "GridSearchCV(cv=None, error_score=nan,\n",
              "             estimator=RandomForestClassifier(bootstrap=True, ccp_alpha=0.0,\n",
              "                                              class_weight=None,\n",
              "                                              criterion='entropy',\n",
              "                                              max_depth=None,\n",
              "                                              max_features='auto',\n",
              "                                              max_leaf_nodes=None,\n",
              "                                              max_samples=None,\n",
              "                                              min_impurity_decrease=0.0,\n",
              "                                              min_impurity_split=None,\n",
              "                                              min_samples_leaf=1,\n",
              "                                              min_samples_split=2,\n",
              "                                              min_weight_fraction_leaf=0.0,\n",
              "                                              n_estimators=150, n_jobs=None,\n",
              "                                              oob_score=True, random_state=None,\n",
              "                                              verbose=0, warm_start=False),\n",
              "             iid='deprecated', n_jobs=None,\n",
              "             param_grid={'n_jobs': array([1, 2, 3, 4, 5, 6, 7])},\n",
              "             pre_dispatch='2*n_jobs', refit=True, return_train_score=False,\n",
              "             scoring=None, verbose=0)"
            ]
          },
          "metadata": {},
          "execution_count": 18
        }
      ]
    },
    {
      "cell_type": "code",
      "metadata": {
        "colab": {
          "base_uri": "https://localhost:8080/"
        },
        "id": "xbSfDB14-t-P",
        "outputId": "20773dbb-a4bb-4225-fa93-53bfe1807b69"
      },
      "source": [
        "model.best_score_"
      ],
      "execution_count": 22,
      "outputs": [
        {
          "output_type": "execute_result",
          "data": {
            "text/plain": [
              "0.7666666666666667"
            ]
          },
          "metadata": {},
          "execution_count": 22
        }
      ]
    },
    {
      "cell_type": "code",
      "metadata": {
        "colab": {
          "base_uri": "https://localhost:8080/"
        },
        "id": "wknOUddB-2sd",
        "outputId": "8a26547f-2bbc-4962-f18b-4a1c35dd51dd"
      },
      "source": [
        "model.best_params_"
      ],
      "execution_count": 23,
      "outputs": [
        {
          "output_type": "execute_result",
          "data": {
            "text/plain": [
              "{'n_jobs': 1}"
            ]
          },
          "metadata": {},
          "execution_count": 23
        }
      ]
    },
    {
      "cell_type": "code",
      "metadata": {
        "id": "e3qLui8I_O2k"
      },
      "source": [
        "RFMF=RandomForestClassifier(n_jobs=1,n_estimators = 150, oob_score =True,criterion ='entropy')"
      ],
      "execution_count": 24,
      "outputs": []
    },
    {
      "cell_type": "code",
      "metadata": {
        "id": "gsKudTF9_Wkc"
      },
      "source": [
        "model1=RFMF.fit(X_train,y_train)"
      ],
      "execution_count": 26,
      "outputs": []
    },
    {
      "cell_type": "code",
      "metadata": {
        "id": "ACLCEvSe_dN2"
      },
      "source": [
        "pred_train=model1.predict(X_train)"
      ],
      "execution_count": 27,
      "outputs": []
    },
    {
      "cell_type": "code",
      "metadata": {
        "colab": {
          "base_uri": "https://localhost:8080/"
        },
        "id": "1nZc2tmu_n71",
        "outputId": "063470ea-4e0b-458f-866c-b6417d7b881b"
      },
      "source": [
        "accuracy_score(pred_train,y_train)"
      ],
      "execution_count": 28,
      "outputs": [
        {
          "output_type": "execute_result",
          "data": {
            "text/plain": [
              "1.0"
            ]
          },
          "metadata": {},
          "execution_count": 28
        }
      ]
    },
    {
      "cell_type": "code",
      "metadata": {
        "id": "7AJmoNbi_skR"
      },
      "source": [
        "y_pred=model1.predict(X_test)"
      ],
      "execution_count": 29,
      "outputs": []
    },
    {
      "cell_type": "code",
      "metadata": {
        "colab": {
          "base_uri": "https://localhost:8080/"
        },
        "id": "BkxgMbqC_z-p",
        "outputId": "4d245aac-7e63-4378-d53e-b60841ff2a00"
      },
      "source": [
        "accuracy_score(y_test,y_pred)"
      ],
      "execution_count": 30,
      "outputs": [
        {
          "output_type": "execute_result",
          "data": {
            "text/plain": [
              "0.775"
            ]
          },
          "metadata": {},
          "execution_count": 30
        }
      ]
    },
    {
      "cell_type": "code",
      "metadata": {
        "colab": {
          "base_uri": "https://localhost:8080/"
        },
        "id": "pqSEBAWq_9Du",
        "outputId": "a012085f-aaba-41a1-f95a-f9460c368820"
      },
      "source": [
        "confusion_matrix(y_test,y_pred)"
      ],
      "execution_count": 31,
      "outputs": [
        {
          "output_type": "execute_result",
          "data": {
            "text/plain": [
              "array([[93,  3],\n",
              "       [24,  0]])"
            ]
          },
          "metadata": {},
          "execution_count": 31
        }
      ]
    },
    {
      "cell_type": "markdown",
      "metadata": {
        "id": "RnxeFEbMAL--"
      },
      "source": [
        "Conclusion: As seen in the confusion matrix of Test data 93 instances are presdected correctly and 27 instances are not"
      ]
    }
  ]
}